{
 "cells": [
  {
   "cell_type": "code",
   "execution_count": 33,
   "id": "2dcb73bc-5767-41e1-98f0-f5887e61b53a",
   "metadata": {},
   "outputs": [],
   "source": [
    "import matplotlib.pyplot as plt\n",
    "import numpy as np\n",
    "import pandas as pd\n",
    "import matplotlib.patches as mpatches\n",
    "from sklearn.neighbors import KNeighborsClassifier\n",
    "from sklearn.metrics import accuracy_score, mean_squared_error\n",
    "from sklearn.preprocessing import LabelEncoder"
   ]
  },
  {
   "cell_type": "code",
   "execution_count": 34,
   "id": "38821b99-bf62-41e4-b1c2-cf6fe6288f71",
   "metadata": {},
   "outputs": [
    {
     "name": "stdout",
     "output_type": "stream",
     "text": [
      "(2500, 2)\n",
      "0                  hominino Orrorin tugenencin\n",
      "1      hominino Ardipithecus ramidus / kabadda\n",
      "2                   Australopithecus Afarensis\n",
      "3                   Australopithecus Anamensis\n",
      "4                   Australopithecus Africanus\n",
      "5                            Homo Rodhesiensis\n",
      "7           hominino Sahelanthropus tchadensis\n",
      "8                      Homo Neanderthalensis\\n\n",
      "11                    Paranthropus Aethiopicus\n",
      "12                                Homo Erectus\n",
      "13                                 Homo Naledi\n",
      "14                           Homo Floresiensis\n",
      "16                         Paranthropus Boisei\n",
      "18                            Homo Rudolfensis\n",
      "20                                Homo Habilis\n",
      "24                                Homo Sapiens\n",
      "25                              Homo Antecesor\n",
      "35                               Homo Ergaster\n",
      "37                     Australopithecus Sediba\n",
      "41                              Homo Georgicus\n",
      "50              Australopithecus Bahrelghazali\n",
      "52                      Australopithecus Garhi\n",
      "68                       Paranthropus Robustus\n",
      "100                       Homo Heidelbergensis\n",
      "Name: Specie, dtype: object\n"
     ]
    }
   ],
   "source": [
    "df_evo = pd.read_csv('csv/Evolution_DataSets.csv')\n",
    "\n",
    "# Seleccionar las especies de interés\n",
    "especies_de_interes = ['Homo Neanderthalensis\\n', 'Homo Erectus', 'Homo Sapiens', 'Homo Habilis', 'Homo Heidelbergensis']\n",
    "df_especies_de_interes = df_evo[df_evo['Specie'].isin(especies_de_interes)]\n",
    "\n",
    "# Seleccionar las características y la variable objetivo\n",
    "features = ['Cranial_Capacity', 'Height']\n",
    "target = ['Specie']\n",
    "X = df_especies_de_interes[features].values\n",
    "y = df_especies_de_interes[target].values.ravel()\n",
    "\n",
    "print(X.shape) # Cantidad de muestras (filas) y características (columnas)\n",
    "print(df_evo['Specie'].drop_duplicates()) # Especies en el df."
   ]
  },
  {
   "cell_type": "code",
   "execution_count": 35,
   "id": "acb8c322-0ddd-4158-aaa1-e73de9af8017",
   "metadata": {},
   "outputs": [],
   "source": [
    "# Codificar las etiquetas de las especies como valores numéricos enteros\n",
    "label_encoder = LabelEncoder()\n",
    "y_encoded = label_encoder.fit_transform(y)\n",
    "species_labels = label_encoder.inverse_transform(np.unique(y_encoded))"
   ]
  },
  {
   "cell_type": "code",
   "execution_count": 45,
   "id": "2b0e1e2e-e938-4e81-998d-a4a2c211c7cd",
   "metadata": {},
   "outputs": [],
   "source": [
    "model = KNeighborsClassifier(n_neighbors=3)\n",
    "model.fit(X, y_encoded)\n",
    "\n",
    "# Definir límites para el gráfico\n",
    "x_min, x_max = X[:, 0].min() - 1, X[:, 0].max() + 1\n",
    "y_min, y_max = X[:, 1].min() - 1, X[:, 1].max() + 1\n",
    "h = 0.05  # Densidad de la malla"
   ]
  },
  {
   "cell_type": "code",
   "execution_count": null,
   "id": "c62b0ad0-a531-45e5-9198-e8c7ea712a9e",
   "metadata": {},
   "outputs": [],
   "source": [
    "# Generar una malla de puntos para el gráfico\n",
    "xx, yy = np.meshgrid(np.arange(x_min, x_max, h), np.arange(y_min, y_max, h))\n",
    "\n",
    "# Hacer predicciones para cada punto en la malla\n",
    "Z = model.predict(np.c_[xx.ravel(), yy.ravel()])\n",
    "\n",
    "# Convertir las predicciones de vuelta a las etiquetas originales de las especies\n",
    "Z_labels = label_encoder.inverse_transform(Z)\n",
    "Z_encoded = label_encoder.transform(Z_labels)\n",
    "# Reshape Z_encoded para que tenga la misma forma que xx y yy\n",
    "Z_encoded = Z_encoded.reshape(xx.shape)\n",
    "\n",
    "# Graficar los resultados\n",
    "plt.figure(figsize=(10, 5))\n",
    "plt.contourf(xx, yy, Z_encoded, cmap=plt.cm.Paired, alpha=0.8)\n",
    "\n",
    "# Crear la leyenda manualmente utilizando la paleta de colores predeterminada\n",
    "legend_handles = [mpatches.Patch(color=plt.cm.Paired(i / len(species_labels)), label=species_labels[i]) for i in range(len(species_labels))]\n",
    "plt.legend(handles=legend_handles, loc='center left', bbox_to_anchor=(1, 0.5))\n",
    "\n",
    "# Graficar los puntos de datos\n",
    "plt.scatter(X[:, 0], X[:, 1], c=y_encoded, cmap=plt.cm.Paired, edgecolors='k')\n",
    "\n",
    "# Etiquetas y título del gráfico\n",
    "plt.xlabel('Cranial Capacity')\n",
    "plt.ylabel('Height')\n",
    "plt.title('KNN Clasificación de Especies')\n",
    "\n",
    "plt.tight_layout()\n",
    "plt.show()"
   ]
  },
  {
   "cell_type": "code",
   "execution_count": null,
   "id": "c24f720f-e22c-44f5-977a-bc51cbdf70df",
   "metadata": {},
   "outputs": [],
   "source": []
  }
 ],
 "metadata": {
  "kernelspec": {
   "display_name": "Python 3 (ipykernel)",
   "language": "python",
   "name": "python3"
  },
  "language_info": {
   "codemirror_mode": {
    "name": "ipython",
    "version": 3
   },
   "file_extension": ".py",
   "mimetype": "text/x-python",
   "name": "python",
   "nbconvert_exporter": "python",
   "pygments_lexer": "ipython3",
   "version": "3.12.3"
  }
 },
 "nbformat": 4,
 "nbformat_minor": 5
}
