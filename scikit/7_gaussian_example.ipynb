{
 "cells": [
  {
   "cell_type": "code",
   "execution_count": 1,
   "id": "5a3f4ffb-3890-4117-9673-b230021149d4",
   "metadata": {},
   "outputs": [],
   "source": [
    "import matplotlib.pyplot as plt\n",
    "import numpy as np\n",
    "import pandas as pd\n",
    "\n",
    "from sklearn import datasets\n",
    "from sklearn.gaussian_process import GaussianProcessClassifier\n",
    "from sklearn.gaussian_process.kernels import RBF\n",
    "from sklearn.metrics import accuracy_score, mean_squared_error\n"
   ]
  },
  {
   "cell_type": "code",
   "execution_count": 4,
   "id": "b4f34c6d-5cab-42e6-9c3c-d1fbaf07e4d3",
   "metadata": {},
   "outputs": [
    {
     "name": "stdout",
     "output_type": "stream",
     "text": [
      "(2500, 2)\n",
      "0                  hominino Orrorin tugenencin\n",
      "1      hominino Ardipithecus ramidus / kabadda\n",
      "2                   Australopithecus Afarensis\n",
      "3                   Australopithecus Anamensis\n",
      "4                   Australopithecus Africanus\n",
      "5                            Homo Rodhesiensis\n",
      "7           hominino Sahelanthropus tchadensis\n",
      "8                      Homo Neanderthalensis\\n\n",
      "11                    Paranthropus Aethiopicus\n",
      "12                                Homo Erectus\n",
      "13                                 Homo Naledi\n",
      "14                           Homo Floresiensis\n",
      "16                         Paranthropus Boisei\n",
      "18                            Homo Rudolfensis\n",
      "20                                Homo Habilis\n",
      "24                                Homo Sapiens\n",
      "25                              Homo Antecesor\n",
      "35                               Homo Ergaster\n",
      "37                     Australopithecus Sediba\n",
      "41                              Homo Georgicus\n",
      "50              Australopithecus Bahrelghazali\n",
      "52                      Australopithecus Garhi\n",
      "68                       Paranthropus Robustus\n",
      "100                       Homo Heidelbergensis\n",
      "Name: Specie, dtype: object\n"
     ]
    }
   ],
   "source": [
    "df_evo = pd.read_csv('csv/Evolution_DataSets.csv')\n",
    "\n",
    "especies_de_interes = ['Homo Neanderthalensis\\n', 'Homo Erectus', 'Homo Sapiens', 'Homo Habilis', 'Homo Heidelbergensis']\n",
    "df_especies_de_interes = df_evo[df_evo['Specie'].isin(especies_de_interes)]\n",
    "\n",
    "features = ['Cranial_Capacity', 'Height']\n",
    "target = ['Specie']\n",
    "\n",
    "X = df_especies_de_interes[features].values\n",
    "y = df_especies_de_interes[target].values\n",
    "\n",
    "print(X.shape) # Cantidad de muestras (filas) y características (columnas)\n",
    "print(df_evo['Specie'].drop_duplicates()) # Especies en el df."
   ]
  },
  {
   "cell_type": "code",
   "execution_count": 3,
   "id": "b4eefeb2-e7e4-4b04-8a39-9a617f64ef77",
   "metadata": {},
   "outputs": [
    {
     "name": "stderr",
     "output_type": "stream",
     "text": [
      "C:\\sw\\jupyter\\jupyter_1\\Lib\\site-packages\\sklearn\\gaussian_process\\kernels.py:455: ConvergenceWarning: The optimal value found for dimension 0 of parameter k1__constant_value is close to the specified upper bound 100000.0. Increasing the bound and calling fit again may find a better value.\n",
      "  warnings.warn(\n",
      "C:\\sw\\jupyter\\jupyter_1\\Lib\\site-packages\\sklearn\\gaussian_process\\kernels.py:455: ConvergenceWarning: The optimal value found for dimension 0 of parameter k1__constant_value is close to the specified upper bound 100000.0. Increasing the bound and calling fit again may find a better value.\n",
      "  warnings.warn(\n"
     ]
    },
    {
     "name": "stdout",
     "output_type": "stream",
     "text": [
      "1**2 * RBF(length_scale=1)\n"
     ]
    }
   ],
   "source": [
    "kernel = 1.0 * RBF([1.0])\n",
    "\n",
    "gpc = GaussianProcessClassifier(kernel=kernel).fit(X, y.ravel())\n",
    "\n",
    "# RBF es un modelo que intenta aprender la distribución de las clases en los datos de entrada (las características de las plantas) y clasificar nuevos puntos de datos en función de esa distribución aprendida.\n",
    "# GaussianProcessClassifier es una clase en la biblioteca scikit-learn que implementa un clasificador basado en procesos gaussianos para problemas de clasificación.\n",
    "print(kernel)"
   ]
  },
  {
   "cell_type": "code",
   "execution_count": null,
   "id": "4dad1b10-1238-45df-aa5a-f457ad9eab0e",
   "metadata": {},
   "outputs": [],
   "source": [
    "# Añadimos los límites de los ejes x, y en la futura gráfica. \n",
    "x_min, x_max = X[:, 0].min() - 1, X[:, 0].max() + 1  # cogemos el valor mínimo y máximo de la primera característica (sepal lenght) y le restamos o sumamos 1.\n",
    "y_min, y_max = X[:, 1].min() - 1, X[:, 1].max() + 1  # cogemos el valor mínimo y máximo de la segunda característica (sepal width) y le restamos o sumamos 1.\n",
    "\n",
    "h = 0.5  # Densidad de la \"superficie\" de la gráfica (o malla; cuanto más mayor sea, menor densidad)\n",
    "\n",
    "# Meshgrid crea una malla bidimensionales (la matriz 'xx' tendrá las coordenadas x de todos los puntos y la matriz 'yy' tendrá las coordenadas de la y)\n",
    "# np.arange se usa para generar los puntos de las coordenadas de las gráficas usando los límites que le pasamos (np.arange(start, stop, step) -> (stop - start / step)).\n",
    "xx, yy = np.meshgrid(np.arange(x_min, x_max, h), np.arange(y_min, y_max, h))\n"
   ]
  },
  {
   "cell_type": "code",
   "execution_count": null,
   "id": "41fe3c46-e1f0-4d4a-b11c-f173f93bea72",
   "metadata": {},
   "outputs": [],
   "source": [
    "plt.figure(figsize=(10, 5))\n",
    "    \n",
    "# Se utiliza el clasificador actual (clf) para predecir las probabilidades para todos los puntos en la malla bidimensional (\"aplanando\" con .ravel).\n",
    "Z = gpc.predict_proba(np.c_[xx.ravel(), yy.ravel()])   \n",
    "\n",
    "# \"Reformatea\" el objeto Z, estableciendo sus tres dimensiones\n",
    "Z = Z.reshape((xx.shape[0], xx.shape[1], 3))\n",
    "print(xx.shape[0])  # el número de filas. Cada fila corresponde a una coordenada en a lo largo del eje y.\n",
    "print(xx.shape[1])  # el número de columnas. Cada columna corresponde a una coordenada en a lo largo del eje x.\n",
    "    \n",
    "# Plotea la imagen con las probabilidades que se han establecido en la predicción de Z (ejecutar hasta esta línea sin tener en cuenta las siguientes para verlo más claro)\n",
    "plt.imshow(Z, extent=(x_min, x_max, y_min, y_max), origin=\"lower\")\n",
    "    \n",
    "# Hace un scatter con los datos de todas las filas (clases) y las dos primeras columnas (sepal lenght y sepal width). \n",
    "# Cada clase en [y] se colorea con su color correspondiente (red->0, green->1, blue->2).\n",
    "plt.scatter(X[:, 0], X[:, 1], c=np.array([\"r\", \"g\", \"b\"])[y], edgecolors=(0, 0, 0))\n",
    "\n",
    "plt.xlabel(\"Sepal length\")\n",
    "plt.ylabel(\"Sepal width\")\n",
    "plt.xlim(xx.min(), xx.max())\n",
    "plt.ylim(yy.min(), yy.max())\n",
    "plt.xticks(())\n",
    "plt.yticks(())\n",
    "\n",
    "accuracy = accuracy_score(y, gpc.predict(X))\n",
    "mse = mean_squared_error(y, gpc.predict(X))\n",
    "# Con MSE tomamos la diferencia entre cada valor predicho y su valor real, luego elevamos la diferencia al cuadrado y calculamos el promedio de la diferencia al cuadrado.\n",
    "    \n",
    "plt.title(\n",
    "    \"%s, LML: %.3f\\n Accuracy: %.3f\\n MSE: %.3f\" % (titles[i], gpc.log_marginal_likelihood(gpc.kernel_.theta), accuracy, mse) \n",
    "    # Una LML (Verosimilitud Marginal Logarítmica) más alta indica un mejor ajuste del modelo a los datos observados.\n",
    "    # Sin embargo, los valores numéricos de la LML no son inherentemente significativos. La importancia de estos valores radica en la comparación relativa entre diferentes modelos o configuraciones de modelo.\n",
    ")\n",
    "plt.tight_layout()\n",
    "plt.show()\n",
    "    "
   ]
  },
  {
   "cell_type": "markdown",
   "id": "94fa0d47-cb09-44d9-a59c-63e13e014769",
   "metadata": {
    "editable": true,
    "slideshow": {
     "slide_type": ""
    },
    "tags": []
   },
   "source": [
    "<span style=\"font-size: 18px;\">\n",
    "\n",
    "GaussianProcessClassifier:\n",
    "\n",
    "Modelado Probabilístico: El clasificador utiliza un modelo probabilístico para asignar una probabilidad a cada clase para una instancia de entrada dada. En lugar de solo predecir una clase, proporciona una distribución de probabilidad sobre todas las clases posibles.\n",
    "\n",
    "Kernel de Covarianza: Utiliza un kernel de covarianza para modelar la relación entre las observaciones en el espacio de características. El kernel de covarianza es fundamental en los procesos gaussianos ya que determina cómo las observaciones se relacionan entre sí en función de sus características.\n",
    "\n",
    "Aprendizaje Bayesiano: Se basa en el aprendizaje bayesiano para ajustar los hiperparámetros del modelo y realizar inferencias sobre los datos de entrenamiento. Esto significa que no solo proporciona predicciones puntuales, sino que también proporciona una medida de incertidumbre asociada con cada predicción.\n",
    "\n",
    "Flexibilidad: Los procesos gaussianos son modelos no paramétricos, lo que significa que no hacen suposiciones específicas sobre la forma funcional de la relación entre las características y las etiquetas. Esto les otorga una gran flexibilidad para modelar relaciones complejas en los datos.\n",
    "</span>"
   ]
  },
  {
   "cell_type": "code",
   "execution_count": null,
   "id": "43bae45d-6040-4a1e-9217-ca6c3ffd5f8a",
   "metadata": {},
   "outputs": [],
   "source": []
  }
 ],
 "metadata": {
  "kernelspec": {
   "display_name": "Python 3 (ipykernel)",
   "language": "python",
   "name": "python3"
  },
  "language_info": {
   "codemirror_mode": {
    "name": "ipython",
    "version": 3
   },
   "file_extension": ".py",
   "mimetype": "text/x-python",
   "name": "python",
   "nbconvert_exporter": "python",
   "pygments_lexer": "ipython3",
   "version": "3.12.3"
  }
 },
 "nbformat": 4,
 "nbformat_minor": 5
}
