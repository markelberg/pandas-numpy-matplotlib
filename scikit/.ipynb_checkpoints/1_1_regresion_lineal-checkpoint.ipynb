{
 "cells": [
  {
   "cell_type": "code",
   "execution_count": null,
   "id": "966c57e2-66c2-4433-9066-937fc05c7782",
   "metadata": {},
   "outputs": [],
   "source": [
    "import pandas as pd\n",
    "import numpy as np\n",
    "from sklearn.linear_model import LinearRegression\n",
    "import matplotlib.pyplot as plt\n",
    "\n",
    "huelgas_df = pd.read_csv('csv/huelgas.csv')\n",
    "salarios_df = pd.read_csv('csv/sal_med.csv')\n",
    "\n",
    "datos_df = pd.merge(huelgas_df, salarios_df, on=['Comunidad Autónoma', 'Año'])\n",
    "\n",
    "X = datos_df[['Cantidad de Huelgas']].values  \n",
    "y = datos_df['Salario Medio'].values  \n",
    "\n",
    "modelo = LinearRegression()\n",
    "modelo.fit(X, y)\n",
    "y_pred = modelo.predict(X)\n",
    "\n",
    "plt.scatter(X, y, color='blue', label='Datos reales')\n",
    "plt.plot(X, y_pred, color='red', label='Regresión lineal')\n",
    "plt.xlabel('Cantidad de Huelgas')\n",
    "plt.ylabel('Salario Medio')\n",
    "plt.title('Relación entre la Cantidad de Huelgas y el Salario Medio')\n",
    "plt.legend()\n",
    "plt.show()"
   ]
  },
  {
   "cell_type": "code",
   "execution_count": null,
   "id": "9b5c5a0a-3808-482a-a759-f137b3a22711",
   "metadata": {},
   "outputs": [],
   "source": []
  },
  {
   "cell_type": "code",
   "execution_count": null,
   "id": "b3b2d77b-1347-41c3-8428-0f2dc62af49c",
   "metadata": {},
   "outputs": [],
   "source": []
  }
 ],
 "metadata": {
  "kernelspec": {
   "display_name": "Python 3 (ipykernel)",
   "language": "python",
   "name": "python3"
  },
  "language_info": {
   "codemirror_mode": {
    "name": "ipython",
    "version": 3
   },
   "file_extension": ".py",
   "mimetype": "text/x-python",
   "name": "python",
   "nbconvert_exporter": "python",
   "pygments_lexer": "ipython3",
   "version": "3.12.2"
  }
 },
 "nbformat": 4,
 "nbformat_minor": 5
}
