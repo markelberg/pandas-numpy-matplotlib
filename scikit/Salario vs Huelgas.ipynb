{
 "cells": [
  {
   "cell_type": "code",
   "execution_count": 54,
   "id": "966c57e2-66c2-4433-9066-937fc05c7782",
   "metadata": {},
   "outputs": [
    {
     "name": "stdout",
     "output_type": "stream",
     "text": [
      "Index(['CCAA', 'Tipo de indicador', 'años', 'Total'], dtype='object')\n",
      "Index(['Tipo de jornada', 'CCAA', 'Decil', 'Periodo', 'Total'], dtype='object')\n"
     ]
    }
   ],
   "source": [
    "import pandas as pd\n",
    "import matplotlib.pyplot as plt\n",
    "\n",
    "from sklearn import datasets, linear_model\n",
    "from sklearn.metrics import accuracy_score, mean_squared_error\n",
    "from sklearn.linear_model import LinearRegression\n",
    "\n",
    "\n",
    "huelgas_df = pd.read_csv('csv/huelgas.csv', sep='\\t')\n",
    "salarios_df = pd.read_csv('csv/sal_med.csv', sep='\\t')\n",
    "\n",
    "huelgas_df = huelgas_df.rename(columns={'Comunidad Autónoma y Provincia': 'CCAA'})\n",
    "salarios_df = salarios_df.rename(columns={'Comunidades y Ciudades Autonómas': 'CCAA'})\n",
    "\n",
    "print(huelgas_df.columns)\n",
    "print(salarios_df.columns)"
   ]
  },
  {
   "cell_type": "code",
   "execution_count": 55,
   "id": "4d38307f-5bda-46d6-96ea-74b47917ab1f",
   "metadata": {},
   "outputs": [],
   "source": [
    "salarios_df['CCAA'] = salarios_df['CCAA'].apply(lambda x: ' '.join(x.split()[1:]))\n",
    "\n",
    "merged_df = pd.merge(huelgas_df, salarios_df, on='CCAA', how='left')\n"
   ]
  },
  {
   "cell_type": "code",
   "execution_count": 56,
   "id": "6bb7a98f-3077-48fc-a501-91dc00ac0827",
   "metadata": {},
   "outputs": [
    {
     "name": "stdout",
     "output_type": "stream",
     "text": [
      "Index(['CCAA', 'Tipo de indicador', 'años', 'Total_x', 'Tipo de jornada',\n",
      "       'Decil', 'Periodo', 'Total_y'],\n",
      "      dtype='object')\n"
     ]
    }
   ],
   "source": [
    "comunidades = ['Andalucía', 'Aragón', 'Asturias, Ppado de', 'Balears,Illes', 'Canarias', 'Cantabria', 'Castilla y León',\n",
    "                       'Castilla-La mancha', 'Madrid, Comunidad de', 'Cataluña', 'Comunidad Valenciana', 'Extremadura', 'Galicia', 'Murcia, Región de',\n",
    "                      'Navarra, Comunidad Foral', 'País Vasco', 'Rioja, La']\n",
    "\n",
    "merged_df = merged_df[merged_df['CCAA'].isin(comunidades)]\n",
    "print(merged_df.columns)"
   ]
  },
  {
   "cell_type": "code",
   "execution_count": 33,
   "id": "3abfccf5-a450-4cc8-a036-5a5ff5a3f281",
   "metadata": {},
   "outputs": [
    {
     "name": "stdout",
     "output_type": "stream",
     "text": [
      "         CCAA Total_x   Total_y  años  Periodo\n",
      "44  Andalucía    44,0  1.914,87  2001   2022.0\n",
      "45  Andalucía    44,0  1.860,56  2001   2021.0\n",
      "46  Andalucía    44,0  1.837,33  2001   2020.0\n",
      "47  Andalucía    44,0  1.773,03  2001   2019.0\n",
      "48  Andalucía    44,0  1.748,97  2001   2018.0\n"
     ]
    }
   ],
   "source": [
    "dataset = merged_df[['CCAA', 'Total_x', 'Total_y', 'años', 'Periodo']]\n",
    "\n",
    "# Verificar que se han seleccionado las columnas correctamente\n",
    "print(dataset.head())"
   ]
  },
  {
   "cell_type": "code",
   "execution_count": null,
   "id": "834342f7-6d25-407e-9de4-7f0ac5b892bd",
   "metadata": {},
   "outputs": [],
   "source": []
  }
 ],
 "metadata": {
  "kernelspec": {
   "display_name": "Python 3 (ipykernel)",
   "language": "python",
   "name": "python3"
  },
  "language_info": {
   "codemirror_mode": {
    "name": "ipython",
    "version": 3
   },
   "file_extension": ".py",
   "mimetype": "text/x-python",
   "name": "python",
   "nbconvert_exporter": "python",
   "pygments_lexer": "ipython3",
   "version": "3.12.2"
  }
 },
 "nbformat": 4,
 "nbformat_minor": 5
}
