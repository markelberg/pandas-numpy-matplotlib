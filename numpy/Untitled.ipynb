{
 "cells": [
  {
   "cell_type": "code",
   "execution_count": 4,
   "id": "9874f33f-9670-4e9e-a40f-f927e01d980f",
   "metadata": {},
   "outputs": [
    {
     "name": "stdout",
     "output_type": "stream",
     "text": [
      "True\n",
      "True\n",
      "False\n",
      "False\n"
     ]
    }
   ],
   "source": [
    "import numpy as np\n",
    "\n",
    "a = np.array([[1, 2], [3, 4]])\n",
    "b = np.array([[[1, 2], [3, 4]], [[1, 2], [3, 4]]])\n",
    "\n",
    "\n",
    "y = np.array([[1, 2], [3, 4]])\n",
    "z = np.array([[[1, 2], [3, 4]], [[1, 2], [3, 5]]])\n",
    "\n",
    "tolerance1 = 0.001\n",
    "tolerance2 = 1\n",
    "\n",
    "print(np.allclose(a, b, tolerance1))\n",
    "print(np.allclose(a, b, tolerance2))\n",
    "print(np.allclose(y, z, tolerance1))\n",
    "print(np.allclose(y, z, tolerance1))\n"
   ]
  },
  {
   "cell_type": "code",
   "execution_count": null,
   "id": "5f076433-e77a-41f5-a30d-484986313c40",
   "metadata": {},
   "outputs": [],
   "source": []
  }
 ],
 "metadata": {
  "kernelspec": {
   "display_name": "Python 3 (ipykernel)",
   "language": "python",
   "name": "python3"
  },
  "language_info": {
   "codemirror_mode": {
    "name": "ipython",
    "version": 3
   },
   "file_extension": ".py",
   "mimetype": "text/x-python",
   "name": "python",
   "nbconvert_exporter": "python",
   "pygments_lexer": "ipython3",
   "version": "3.12.2"
  }
 },
 "nbformat": 4,
 "nbformat_minor": 5
}
