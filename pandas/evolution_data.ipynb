{
 "cells": [
  {
   "cell_type": "code",
   "execution_count": 36,
   "id": "28934aa0-b144-44eb-af86-f977a92cc6ec",
   "metadata": {},
   "outputs": [
    {
     "name": "stdout",
     "output_type": "stream",
     "text": [
      "Number of files and columns: (12000, 28)\n",
      "\n",
      "Number of unique values in 'Specie' column: 24\n",
      "\n",
      "Las 10 especies con la mayor capacidad craneal son:\n",
      "                                       Specie Location      Time  \\\n",
      "100                     Homo Heidelbergensis   Europa  0.438777   \n",
      "24                              Homo Sapiens   Africa  0.535506   \n",
      "8                    Homo Neanderthalensis\\n   Europa  0.547326   \n",
      "5                          Homo Rodhesiensis   Africa  0.679447   \n",
      "25                            Homo Antecesor   Europa  0.727599   \n",
      "12                              Homo Erectus    Asia   1.902406   \n",
      "35                             Homo Ergaster   Africa  1.884081   \n",
      "18                          Homo Rudolfensis   Africa  2.447223   \n",
      "41                            Homo Georgicus    Asia   2.009940   \n",
      "4                 Australopithecus Africanus   Africa  3.614060   \n",
      "20                              Homo Habilis   Africa  2.310184   \n",
      "16                       Paranthropus Boisei   Africa  2.173791   \n",
      "11                  Paranthropus Aethiopicus   Africa  2.833075   \n",
      "68                     Paranthropus Robustus   Africa  1.670799   \n",
      "37                   Australopithecus Sediba   Africa  2.169557   \n",
      "52                    Australopithecus Garhi   Africa  2.942023   \n",
      "3                 Australopithecus Anamensis   Africa  4.595606   \n",
      "50            Australopithecus Bahrelghazali   Africa  3.636287   \n",
      "1    hominino Ardipithecus ramidus / kabadda   Africa  4.383910   \n",
      "2                 Australopithecus Afarensis   Africa  3.749413   \n",
      "7         hominino Sahelanthropus tchadensis   Africa  7.551967   \n",
      "14                         Homo Floresiensis    Asia   0.128400   \n",
      "13                               Homo Naledi   Africa  0.567508   \n",
      "0                hominino Orrorin tugenencin   Africa  6.041124   \n",
      "\n",
      "     Cranial_Capacity  \n",
      "100        1303.38306  \n",
      "24         1277.22495  \n",
      "8          1156.08025  \n",
      "5          1155.28124  \n",
      "25         1151.66419  \n",
      "12         1105.33236  \n",
      "35          969.53084  \n",
      "18          753.94022  \n",
      "41          719.64089  \n",
      "4           679.15233  \n",
      "20          627.80908  \n",
      "16          490.06908  \n",
      "11          486.44422  \n",
      "68          477.48063  \n",
      "37          412.11905  \n",
      "52          404.37948  \n",
      "3           403.28047  \n",
      "50          309.00807  \n",
      "1           293.96021  \n",
      "2           264.79849  \n",
      "7           258.04823  \n",
      "14          254.05276  \n",
      "13          213.13723  \n",
      "0           144.51410  \n"
     ]
    }
   ],
   "source": [
    "import pandas as pd\n",
    "import numpy as np\n",
    "\n",
    "df = pd.read_csv('csv/Evolution_DataSets.csv')\n",
    "\n",
    "columns = ['Specie', 'Location', 'Time', 'Cranial_Capacity']\n",
    "drop_duplicates = df.drop_duplicates('Specie')\n",
    "max_cranial = drop_duplicates.sort_values('Cranial_Capacity', ascending=False).head(30)\n",
    "\n",
    "\n",
    "print(\"Number of files and columns:\", df.shape)\n",
    "print(\"\\nNumber of unique values in 'Specie' column:\", len(drop_duplicates))\n",
    "print(\"\\nLas 10 especies con la mayor capacidad craneal son:\\n\", max_cranial[columns])"
   ]
  },
  {
   "cell_type": "code",
   "execution_count": 31,
   "id": "95adebd0-848f-4e76-a419-bc63c687f06d",
   "metadata": {},
   "outputs": [
    {
     "name": "stdout",
     "output_type": "stream",
     "text": [
      "Index(['Specie', 'Time', 'Location', 'Zone', 'Current_Country', 'Habitat',\n",
      "       'Cranial_Capacity', 'Height', 'Incisor_Size', 'Jaw_Shape',\n",
      "       'Torus_Supraorbital', 'Prognathism', 'Foramen_Mágnum_Position',\n",
      "       'Canine Size', 'Canines_Shape', 'Tooth_Enamel', 'Tecno', 'Tecno_type',\n",
      "       'biped', 'Arms', 'Foots', 'Diet', 'Sexual_Dimorphism', 'Hip',\n",
      "       'Vertical_Front', 'Anatomy', 'Migrated', 'Skeleton'],\n",
      "      dtype='object')\n"
     ]
    }
   ],
   "source": [
    "print(df.columns)"
   ]
  },
  {
   "cell_type": "code",
   "execution_count": null,
   "id": "011cf34c-69bb-444e-8474-ecdb6aa8310d",
   "metadata": {},
   "outputs": [],
   "source": []
  }
 ],
 "metadata": {
  "kernelspec": {
   "display_name": "Python 3 (ipykernel)",
   "language": "python",
   "name": "python3"
  },
  "language_info": {
   "codemirror_mode": {
    "name": "ipython",
    "version": 3
   },
   "file_extension": ".py",
   "mimetype": "text/x-python",
   "name": "python",
   "nbconvert_exporter": "python",
   "pygments_lexer": "ipython3",
   "version": "3.12.2"
  }
 },
 "nbformat": 4,
 "nbformat_minor": 5
}
