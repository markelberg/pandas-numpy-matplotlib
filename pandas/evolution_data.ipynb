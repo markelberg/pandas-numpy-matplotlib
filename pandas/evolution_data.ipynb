{
 "cells": [
  {
   "cell_type": "code",
   "execution_count": 44,
   "id": "28934aa0-b144-44eb-af86-f977a92cc6ec",
   "metadata": {},
   "outputs": [
    {
     "name": "stdout",
     "output_type": "stream",
     "text": [
      "Number of files and columns: (12000, 28)\n",
      "\n",
      "Las 10 especies con la mayor capacidad craneal son:\n",
      "                  Genus_&_Specie Location      Time  Cranial_Capacity\n",
      "100        Homo Heidelbergensis   Europa  0.438777        1303.38306\n",
      "24                 Homo Sapiens   Africa  0.535506        1277.22495\n",
      "8       Homo Neanderthalensis\\n   Europa  0.547326        1156.08025\n",
      "5             Homo Rodhesiensis   Africa  0.679447        1155.28124\n",
      "25               Homo Antecesor   Europa  0.727599        1151.66419\n",
      "12                 Homo Erectus    Asia   1.902406        1105.33236\n",
      "35                Homo Ergaster   Africa  1.884081         969.53084\n",
      "18             Homo Rudolfensis   Africa  2.447223         753.94022\n",
      "41               Homo Georgicus    Asia   2.009940         719.64089\n",
      "4    Australopithecus Africanus   Africa  3.614060         679.15233\n"
     ]
    }
   ],
   "source": [
    "import pandas as pd\n",
    "import numpy as np\n",
    "\n",
    "df = pd.read_csv('csv/Evolution_DataSets.csv')\n",
    "\n",
    "columns = ['Genus_&_Specie', 'Location', 'Time', 'Cranial_Capacity']\n",
    "drop_duplicates = df.drop_duplicates('Genus_&_Specie')\n",
    "max_cranial = drop_duplicates.sort_values('Cranial_Capacity', ascending=False).head(10)\n",
    "\n",
    "\n",
    "print(\"Number of files and columns:\", df.shape)\n",
    "print(\"\\nLas 10 especies con la mayor capacidad craneal son:\\n\", max_cranial[columns])"
   ]
  },
  {
   "cell_type": "code",
   "execution_count": null,
   "id": "0d494684-3cea-40da-bf6d-449ff9b18f59",
   "metadata": {},
   "outputs": [],
   "source": []
  }
 ],
 "metadata": {
  "kernelspec": {
   "display_name": "Python 3 (ipykernel)",
   "language": "python",
   "name": "python3"
  },
  "language_info": {
   "codemirror_mode": {
    "name": "ipython",
    "version": 3
   },
   "file_extension": ".py",
   "mimetype": "text/x-python",
   "name": "python",
   "nbconvert_exporter": "python",
   "pygments_lexer": "ipython3",
   "version": "3.12.2"
  }
 },
 "nbformat": 4,
 "nbformat_minor": 5
}
