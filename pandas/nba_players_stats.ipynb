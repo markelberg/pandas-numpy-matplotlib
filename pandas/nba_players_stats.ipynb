{
 "cells": [
  {
   "cell_type": "code",
   "execution_count": 61,
   "id": "0e4e38c3-a24d-4b3f-9118-3ac6feaf9402",
   "metadata": {},
   "outputs": [
    {
     "name": "stdout",
     "output_type": "stream",
     "text": [
      "\n",
      "El objeto top_players es un: <class 'pandas.core.series.Series'>\n",
      "\n",
      "Filas y columnas totales del df: (12844, 21)\n",
      "\n",
      "Top 20 de jugadores con mayor promedio de puntos:\n",
      " player_name            season \n",
      "Stephen Curry          2020-21    32.0\n",
      "Bradley Beal           2020-21    31.3\n",
      "Damian Lillard         2020-21    28.8\n",
      "Joel Embiid            2020-21    28.5\n",
      "Giannis Antetokounmpo  2020-21    28.1\n",
      "Luka Doncic            2020-21    27.7\n",
      "Zach LaVine            2020-21    27.4\n",
      "Zion Williamson        2020-21    27.0\n",
      "Kyrie Irving           2020-21    26.9\n",
      "Kevin Durant           2020-21    26.9\n",
      "Nikola Jokic           2020-21    26.4\n",
      "Jayson Tatum           2020-21    26.4\n",
      "Donovan Mitchell       2020-21    26.4\n",
      "Devin Booker           2020-21    25.6\n",
      "Trae Young             2020-21    25.3\n",
      "De'Aaron Fox           2020-21    25.2\n",
      "LeBron James           2020-21    25.0\n",
      "Kawhi Leonard          2020-21    24.8\n",
      "Karl-Anthony Towns     2020-21    24.8\n",
      "Jaylen Brown           2020-21    24.7\n",
      "Name: pts, dtype: float64\n"
     ]
    }
   ],
   "source": [
    "import numpy as np\n",
    "import pandas as pd\n",
    "\n",
    "df = pd.read_csv('all_seasons.csv', index_col='player_name')\n",
    "\n",
    "my_season = df[df['season'] == '2020-21']\n",
    "top_players = my_season.groupby(['player_name', 'season'])['pts'].max()\n",
    "\n",
    "#print(df.info())\n",
    "print(\"\\nEl objeto top_players es un:\", type(top_players))\n",
    "print(\"\\nFilas y columnas totales del df:\",df.shape)\n",
    "print(\"\\nTop 20 de jugadores con mayor promedio de puntos:\\n\", top_players.sort_values(ascending=False).head(20))"
   ]
  },
  {
   "cell_type": "code",
   "execution_count": null,
   "id": "534f977a-9a2f-4571-bef8-33df0840b6d1",
   "metadata": {},
   "outputs": [],
   "source": []
  }
 ],
 "metadata": {
  "kernelspec": {
   "display_name": "Python 3 (ipykernel)",
   "language": "python",
   "name": "python3"
  },
  "language_info": {
   "codemirror_mode": {
    "name": "ipython",
    "version": 3
   },
   "file_extension": ".py",
   "mimetype": "text/x-python",
   "name": "python",
   "nbconvert_exporter": "python",
   "pygments_lexer": "ipython3",
   "version": "3.12.2"
  }
 },
 "nbformat": 4,
 "nbformat_minor": 5
}
