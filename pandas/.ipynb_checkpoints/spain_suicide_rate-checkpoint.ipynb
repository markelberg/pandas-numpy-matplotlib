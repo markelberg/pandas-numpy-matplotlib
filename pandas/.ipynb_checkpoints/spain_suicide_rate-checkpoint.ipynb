{
 "cells": [
  {
   "cell_type": "code",
   "execution_count": 57,
   "id": "afe89c16-8d68-4f0b-8525-ed254766eeb7",
   "metadata": {},
   "outputs": [
    {
     "name": "stdout",
     "output_type": "stream",
     "text": [
      "Number of files and columns: (118560, 17)\n",
      "\n",
      " AgeGroup     Sex   Year\n",
      "35-54 years  Male  2014    296.00\n",
      "                   2013    293.50\n",
      "                   2021    273.50\n",
      "                   2020    268.25\n",
      "                   2019    264.75\n",
      "                   2017    263.00\n",
      "                   2016    258.00\n",
      "                   2012    254.00\n",
      "                   2015    253.75\n",
      "                   2018    247.50\n",
      "                   2008    243.00\n",
      "                   2010    242.75\n",
      "                   2009    236.25\n",
      "                   2011    235.50\n",
      "25-34 years  Male  2003    229.50\n",
      "55-74 years  Male  2021    224.00\n",
      "                   2020    223.50\n",
      "35-54 years  Male  2004    221.75\n",
      "25-34 years  Male  1998    221.50\n",
      "                   2004    210.50\n",
      "                   1997    210.50\n",
      "35-54 years  Male  2007    210.25\n",
      "25-34 years  Male  1994    209.00\n",
      "35-54 years  Male  2005    207.25\n",
      "25-34 years  Male  2002    207.00\n",
      "35-54 years  Male  2006    205.50\n",
      "55-74 years  Male  2019    204.00\n",
      "25-34 years  Male  2001    203.50\n",
      "                   1996    203.00\n",
      "55-74 years  Male  2013    203.00\n",
      "Name: SuicideCount, dtype: float64\n"
     ]
    }
   ],
   "source": [
    "import pandas as pd\n",
    "import numpy as np\n",
    "\n",
    "df = pd.read_csv('suicide_rates_1990-2022.csv', index_col='Sex')\n",
    "\n",
    "spain = df[df['CountryName'] == 'Spain']\n",
    "top_countries = spain.groupby(['AgeGroup', 'Sex','Year'])['SuicideCount'].mean()\n",
    "\n",
    "print(\"Number of files and columns:\", df.shape)\n",
    "print(\"\\n\", top_countries.sort_values(ascending=False).head(30))\n"
   ]
  },
  {
   "cell_type": "code",
   "execution_count": 41,
   "id": "3141c4b1-010d-405e-af08-1127b9f764d9",
   "metadata": {},
   "outputs": [
    {
     "name": "stdout",
     "output_type": "stream",
     "text": [
      "<class 'pandas.core.frame.DataFrame'>\n",
      "Index: 118560 entries, Male to Female\n",
      "Data columns (total 17 columns):\n",
      " #   Column                        Non-Null Count   Dtype  \n",
      "---  ------                        --------------   -----  \n",
      " 0   RegionCode                    118560 non-null  object \n",
      " 1   RegionName                    118560 non-null  object \n",
      " 2   CountryCode                   118560 non-null  object \n",
      " 3   CountryName                   118560 non-null  object \n",
      " 4   Year                          118560 non-null  int64  \n",
      " 5   AgeGroup                      118560 non-null  object \n",
      " 6   Generation                    118560 non-null  object \n",
      " 7   SuicideCount                  118096 non-null  float64\n",
      " 8   CauseSpecificDeathPercentage  114271 non-null  float64\n",
      " 9   DeathRatePer100K              107896 non-null  float64\n",
      " 10  Population                    112640 non-null  float64\n",
      " 11  GDP                           111320 non-null  float64\n",
      " 12  GDPPerCapita                  111320 non-null  float64\n",
      " 13  GrossNationalIncome           108600 non-null  float64\n",
      " 14  GNIPerCapita                  107800 non-null  float64\n",
      " 15  InflationRate                 104100 non-null  float64\n",
      " 16  EmploymentPopulationRatio     107440 non-null  float64\n",
      "dtypes: float64(10), int64(1), object(6)\n",
      "memory usage: 16.3+ MB\n",
      "None\n"
     ]
    }
   ],
   "source": [
    "print(df.info())"
   ]
  },
  {
   "cell_type": "code",
   "execution_count": null,
   "id": "b93ab33a-14cb-43ea-bad6-c4e4f823a9e0",
   "metadata": {},
   "outputs": [],
   "source": []
  }
 ],
 "metadata": {
  "kernelspec": {
   "display_name": "Python 3 (ipykernel)",
   "language": "python",
   "name": "python3"
  },
  "language_info": {
   "codemirror_mode": {
    "name": "ipython",
    "version": 3
   },
   "file_extension": ".py",
   "mimetype": "text/x-python",
   "name": "python",
   "nbconvert_exporter": "python",
   "pygments_lexer": "ipython3",
   "version": "3.12.2"
  }
 },
 "nbformat": 4,
 "nbformat_minor": 5
}
